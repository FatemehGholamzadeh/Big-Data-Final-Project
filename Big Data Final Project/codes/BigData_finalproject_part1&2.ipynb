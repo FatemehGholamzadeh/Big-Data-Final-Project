{
  "nbformat": 4,
  "nbformat_minor": 0,
  "metadata": {
    "colab": {
      "name": "BigData_finalproject.ipynb",
      "provenance": [],
      "collapsed_sections": [
        "H1PYbRpB4Ajb",
        "9EBFYcE5nCNA",
        "kdJltzyRm3OD",
        "DKz3tSsclIGs",
        "7l9RubI_lRi6"
      ],
      "toc_visible": true
    },
    "kernelspec": {
      "name": "python3",
      "display_name": "Python 3"
    },
    "language_info": {
      "name": "python"
    },
    "accelerator": "GPU"
  },
  "cells": [
    {
      "cell_type": "code",
      "metadata": {
        "colab": {
          "base_uri": "https://localhost:8080/"
        },
        "id": "mIAPwC2fO9lG",
        "outputId": "4a07d860-0cbe-46bc-c6f8-2d9c960b5d42"
      },
      "source": [
        "from google.colab import drive\n",
        "drive.mount('/content/drive')"
      ],
      "execution_count": 1,
      "outputs": [
        {
          "output_type": "stream",
          "text": [
            "Mounted at /content/drive\n"
          ],
          "name": "stdout"
        }
      ]
    },
    {
      "cell_type": "code",
      "metadata": {
        "colab": {
          "base_uri": "https://localhost:8080/"
        },
        "id": "omDFIjwMDiGN",
        "outputId": "4b8228cb-663a-475d-dab2-bebbf19899b6"
      },
      "source": [
        "import math\n",
        "import random\n",
        "import pandas as pd\n",
        "from sklearn.utils import shuffle\n",
        "import networkx as nx\n",
        "import matplotlib.pyplot as plt\n",
        "from collections import defaultdict\n",
        "from matplotlib import colors\n",
        "from matplotlib import cm\n",
        "import numpy as np\n",
        "from numpy import linalg as LA\n",
        "from numpy.linalg import matrix_power\n",
        "from scipy.linalg import fractional_matrix_power\n",
        "%cd drive/MyDrive"
      ],
      "execution_count": 2,
      "outputs": [
        {
          "output_type": "stream",
          "text": [
            "/content/drive/MyDrive\n"
          ],
          "name": "stdout"
        }
      ]
    },
    {
      "cell_type": "markdown",
      "metadata": {
        "id": "H1PYbRpB4Ajb"
      },
      "source": [
        "#Main Algorithms"
      ]
    },
    {
      "cell_type": "code",
      "metadata": {
        "id": "n6n3T9JYLBr9"
      },
      "source": [
        "#algorithm1\n",
        "def RobustGC(W , y, eta=1):\n",
        "    row, col = np.diag_indices_from(W)\n",
        "    D = np.zeros((len(row), len(col)))\n",
        "    D[row, col] = W.sum(axis=1)\n",
        "    T = fractional_matrix_power(D, -0.5)\n",
        "    S = T @ W @ T\n",
        "    I = np.identity(len(S))\n",
        "    LN = I - S\n",
        "    v0 = np.sqrt(np.diagonal(D))\n",
        "    v0 = v0 / np.sqrt(np.sum(v0**2))\n",
        "    temp0 = S - v0.dot(v0)\n",
        "    e = LA.eigvals(temp0)\n",
        "    e = (np.sort(e))\n",
        "    a = LA.eigvals(LN)\n",
        "    lambda1 = (np.sort(a)[1])\n",
        "    # print(lambda1)\n",
        "    # print(e[len(e)-1])\n",
        "    # print(lambda1+e[len(e)-1])\n",
        "    gamma = eta*lambda1\n",
        "    temp =LA.inv(LN/gamma - np.identity(len(LN)))\n",
        "    temp2 = y - v0.dot(v0.dot(y))\n",
        "    f = temp@temp2\n",
        "    yhat = np.sign(f)\n",
        "    return yhat,gamma\n",
        "\n",
        "def compute_dx(x,dataset,sigma):\n",
        "    dx = 0\n",
        "    gamma = 1 / np.power(sigma, 2)\n",
        "    for i in range(len(dataset)):\n",
        "        k = np.exp(-gamma * np.linalg.norm(np.array(x) - np.array(dataset[i])))\n",
        "        dx +=k\n",
        "    return dx\n",
        "\n",
        "def out_of_sample(x,dataset,yhat,sigma,gamma ,d_list):\n",
        "    # with open('data/d_list.pkl', 'rb') as f:\n",
        "    #     d_list = pickle.load(f)\n",
        "\n",
        "    dx = compute_dx(x,dataset,sigma)\n",
        "    temp1 = 1/(1-gamma-(1/dx))\n",
        "\n",
        "    gamma = 1 / np.power(sigma, 2)\n",
        "    S = 0\n",
        "    for i in range(len(dataset)):\n",
        "        k = np.exp(-gamma * np.linalg.norm(np.array(x) - np.array(dataset[i])))\n",
        "        s = (k / np.sqrt(dx*d_list[i])) *yhat[i]\n",
        "        S +=s\n",
        "    return np.sign(temp1*S)\n",
        "\n",
        "\n",
        "def dump_d_list(dataset,sigma,num):\n",
        "    mylist = []\n",
        "    for i in range(len(dataset)):\n",
        "        mylist.append(compute_dx(dataset[i],dataset,sigma))\n",
        "    print(mylist)\n",
        "    with open('data/d_list_'+str(num)+'.pkl', 'wb') as f:\n",
        "        pickle.dump(mylist, f)\n"
      ],
      "execution_count": 7,
      "outputs": []
    },
    {
      "cell_type": "code",
      "metadata": {
        "id": "luE6KMIc36rX"
      },
      "source": [
        "def sample_labels(label_list,percentage):\n",
        "    y = np.zeros((len(label_list)), dtype=float)\n",
        "    negative_indices = [i for i, x in enumerate(label_list) if x == -1]\n",
        "    positive_indices = [i for i, x in enumerate(label_list) if x == 1]\n",
        "    n = math.ceil(len(label_list)*(percentage/100))\n",
        "    a = random.sample(negative_indices, 1)\n",
        "    b = random.sample(positive_indices, 1)\n",
        "    y[a] = -1\n",
        "    y[b] = 1\n",
        "    negative_indices.remove(a[0])\n",
        "    positive_indices.remove(b[0])\n",
        "    positive_indices.extend(negative_indices)\n",
        "    if n-2 > 0 :\n",
        "        indices = random.sample(positive_indices, n-2)\n",
        "        for index in indices :\n",
        "            if label_list[index] == -1:\n",
        "                y[index] = -1\n",
        "            else:\n",
        "                y[index] = 1\n",
        "    return y\n",
        "\n",
        "def find_accuracy(yhat,y_true,y):\n",
        "    n = sum(y == 0)\n",
        "    counter =0\n",
        "    for i,element in enumerate(y):\n",
        "        if element ==0:\n",
        "            if yhat[i] == y_true[i]:\n",
        "                counter+=1\n",
        "    return (counter/n) * 100\n"
      ],
      "execution_count": 4,
      "outputs": []
    },
    {
      "cell_type": "code",
      "metadata": {
        "id": "5WTAVDXM5U-c"
      },
      "source": [
        "def show_results(labels , mat , landa=0.9  , name_dataset=''):\n",
        "  sampel_percent=[1,2,5,10,20,50]\n",
        "  all_acc=[]\n",
        "  for s in sampel_percent:\n",
        "    acc = 0\n",
        "    for i in range(20):\n",
        "      y = sample_labels(labels,s)\n",
        "      yhat,_ = RobustGC(mat,y , landa)\n",
        "      acc += find_accuracy(yhat,labels,y)\n",
        "    all_acc.append(acc/20)\n",
        "  if landa ==0.9:\n",
        "    print(\"average accuracy for \"+str(name_dataset)+\" and \" +\"PF_RobustGC method:\"+\"\\n\")\n",
        "  else:\n",
        "    print(\"average accuracy for \"+str(name_dataset)+\" and \" +\"RobustGC method:\"+\"\\n\")\n",
        "  if name_dataset not in (\"karate\" , \"polbooks\"):\n",
        "    for j in range(len(sampel_percent)):\n",
        "      print(\"percentage: \" + str(sampel_percent[j])+\" accuracy: \"+str(all_acc[j]))\n",
        "  elif name_dataset==\"karate\":\n",
        "    for j in sampel_percent[2:]:\n",
        "      print(\"percentage: \" + str(j)+\" accuracy: \"+str(all_acc[sampel_percent.index(j)]))\n",
        "  else:\n",
        "    for j in sampel_percent[1:]:\n",
        "      print(\"percentage: \" + str(j)+\" accuracy: \"+str(all_acc[sampel_percent.index(j)]))\n"
      ],
      "execution_count": 5,
      "outputs": []
    },
    {
      "cell_type": "markdown",
      "metadata": {
        "id": "Yx93gYZgSTEg"
      },
      "source": [
        "#Evaluating Algorithm1"
      ]
    },
    {
      "cell_type": "code",
      "metadata": {
        "colab": {
          "base_uri": "https://localhost:8080/",
          "height": 321
        },
        "id": "UPn5zr8PSevM",
        "outputId": "421e734b-651e-4bd5-87ea-21f256362899"
      },
      "source": [
        "n = 20\n",
        "x = range(1,n+1)\n",
        "\n",
        "W = np.zeros((n,n))\n",
        "for i in range(n-1):\n",
        "    if i!= 9 :\n",
        "        W[i][i+1] = 10\n",
        "        W[i+1][i] = 10\n",
        "    else:\n",
        "        W[i][i + 1] = 1\n",
        "        W[i + 1][i] = 1\n",
        "\n",
        "y = np.zeros((n),dtype=float)\n",
        "\n",
        "y [8] = 1\n",
        "y [11] = -1\n",
        "y [12] = 1\n",
        "y [13] = -1\n",
        "y [14] = -1\n",
        "\n",
        "yhat ,g= RobustGC(W,y,0.5)\n",
        "print(yhat)\n",
        "x = [i for i in range(1,21)]\n",
        "plt.axis([0, 21, -2, 2])\n",
        "plt.xticks(np.arange(0,21,1))\n",
        "plt.plot(x,yhat,'-o',color='orangered',linewidth=3.0)\n",
        "plt.xlabel('Example with four correct labels and a flipped one.')\n",
        "plt.ylabel('f*')\n",
        "plt.savefig('moon.jpg')\n",
        "plt.show()"
      ],
      "execution_count": 9,
      "outputs": [
        {
          "output_type": "stream",
          "text": [
            "[ 1.  1.  1.  1.  1.  1.  1.  1.  1.  1. -1. -1. -1. -1. -1. -1. -1. -1.\n",
            " -1. -1.]\n"
          ],
          "name": "stdout"
        },
        {
          "output_type": "display_data",
          "data": {
            "image/png": "[encoded data removed]",
            "text/plain": [
              "<Figure size 432x288 with 1 Axes>"
            ]
          },
          "metadata": {
            "tags": [],
            "needs_background": "light"
          }
        }
      ]
    },
    {
      "cell_type": "markdown",
      "metadata": {
        "id": "9EBFYcE5nCNA"
      },
      "source": [
        "# Karate"
      ]
    },
    {
      "cell_type": "code",
      "metadata": {
        "id": "HTew2NDzK2nr"
      },
      "source": [
        "y_true = [-1, -1, -1, -1, -1, -1, -1, -1, 1, 1, -1, -1, -1, -1, 1, 1, -1, -1, 1, -1, 1, -1, 1, 1, 1, 1, 1, 1, 1, 1, 1, 1, 1, 1]\n",
        "\n",
        "#karate_club dataset\n",
        "G = nx.karate_club_graph()\n",
        "\n",
        "pos = nx.spring_layout(G)\n",
        "\n",
        "def draw_communities(G, membership, pos):\n",
        "    \"\"\"Draws the nodes to a plot with assigned colors for each individual cluster\n",
        "    Parameters\n",
        "    ----------\n",
        "    G : networkx graph\n",
        "    membership : list\n",
        "        A list where the position is the student and the value at the position is the student club membership.\n",
        "        E.g. `print(membership[8]) --> 1` means that student #8 is a member of club 1.\n",
        "    pos : positioning as a networkx spring layout\n",
        "        E.g. nx.spring_layout(G)\n",
        "    \"\"\"\n",
        "    fig, ax = plt.subplots(figsize=(16, 9))\n",
        "\n",
        "    # Convert membership list to a dict where key=club, value=list of students in club\n",
        "    club_dict = defaultdict(list)\n",
        "    for student, club in enumerate(membership):\n",
        "        club_dict[club].append(student)\n",
        "\n",
        "    # Normalize number of clubs for choosing a color\n",
        "    norm = colors.Normalize(vmin=0, vmax=len(club_dict.keys()))\n",
        "\n",
        "    for club, members in club_dict.items():\n",
        "        nx.draw_networkx_nodes(G, pos,\n",
        "                               nodelist=members,\n",
        "                               node_color=cm.jet(norm(club)),\n",
        "                               node_size=500,\n",
        "                               alpha=0.8,\n",
        "                               ax=ax)\n",
        "\n",
        "    # Draw edges (social connections) and show final plot\n",
        "    plt.title(\"Zachary's Karate Club\")\n",
        "    nx.draw_networkx_edges(G, pos, alpha=0.5, ax=ax)\n",
        "\n",
        "\n",
        "def graph_to_edge_matrix(G):\n",
        "    \"\"\"Convert a networkx graph into an edge matrix.\n",
        "    Parameters\n",
        "    ----------\n",
        "    G : networkx graph\n",
        "    \"\"\"\n",
        "    # Initialize edge matrix with zeros\n",
        "    edge_mat = np.zeros((len(G), len(G)), dtype=int)\n",
        "\n",
        "    # Loop to set 0 or 1 (diagonal elements are set to 1)\n",
        "    for node in G:\n",
        "        for neighbor in G.neighbors(node):\n",
        "            edge_mat[node][neighbor] = 1\n",
        "        edge_mat[node][node] = 1\n",
        "    return edge_mat"
      ],
      "execution_count": null,
      "outputs": []
    },
    {
      "cell_type": "markdown",
      "metadata": {
        "id": "kdJltzyRm3OD"
      },
      "source": [
        "# USPS"
      ]
    },
    {
      "cell_type": "code",
      "metadata": {
        "id": "IbRkGf_cLNdQ"
      },
      "source": [
        "#usps\n",
        "\n",
        "def make_dataset(data_path='usps',new_file_path='out.txt',numberOfsamples=125):\n",
        "\n",
        "    with open(data_path) as f:\n",
        "        data = f.readlines()\n",
        "    counter4 = 0\n",
        "    counter9 = 0\n",
        "    with open(new_file_path, \"w\") as f1:\n",
        "        for i in range(len(data)):\n",
        "            if data[i][0] == '4' and counter4 <numberOfsamples:\n",
        "                f1.write(data[i])\n",
        "                counter4+=1\n",
        "                print(counter4)\n",
        "            if data[i][0] == '9' and counter9 <numberOfsamples:\n",
        "                f1.write(data[i])\n",
        "                counter9+=1\n",
        "                print(counter9)\n",
        "    f.close()\n",
        "    f1.close()\n",
        "\n",
        "def read_data(filepath):\n",
        "\n",
        "    with open(filepath) as f:\n",
        "        data = f.readlines()\n",
        "\n",
        "    vectors  = np.zeros((len(data), 256), dtype=float)\n",
        "\n",
        "    for i in range(len(data)):\n",
        "        d = data[i].split(':')\n",
        "        v = []\n",
        "        for j in range(1, len(d)):\n",
        "            v.append(float(d[j].split(' ')[0]))\n",
        "        vectors[i] = v\n",
        "\n",
        "    return vectors\n",
        "\n",
        "\n",
        "def generate_weight_mat(vectors,sigma):\n",
        "\n",
        "    gamma = 1/np.power(sigma,2)\n",
        "    weight_mat = np.zeros((len(vectors),len(vectors)),dtype=float)\n",
        "    for i in range(len(vectors)):\n",
        "        for j in range(len(vectors)):\n",
        "            weight_mat[i][j] = np.exp(-gamma * np.linalg.norm(np.array(vectors[i])-np.array(vectors[j])))\n",
        "    return weight_mat\n",
        "\n",
        "def generate_labels(filepath):\n",
        "    labels = []\n",
        "    c = 0\n",
        "    d = 0\n",
        "    with open(filepath) as file_in:\n",
        "\n",
        "        for line in file_in:\n",
        "            l = (line[0])\n",
        "            if l == '4':\n",
        "                c += 1\n",
        "                labels.append(-1)\n",
        "            if l == '9':\n",
        "                labels.append(1)\n",
        "                d += 1\n",
        "    return labels"
      ],
      "execution_count": null,
      "outputs": []
    },
    {
      "cell_type": "markdown",
      "metadata": {
        "id": "DKz3tSsclIGs"
      },
      "source": [
        "#dolphins"
      ]
    },
    {
      "cell_type": "code",
      "metadata": {
        "id": "K5qZzWqID-GX"
      },
      "source": [
        "def dolphins_labels_and_matrix():\n",
        "  labels = []\n",
        "  with  open(\"dolphins.edges\" , \"r\") as f:\n",
        "    adjacency= f.readlines()\n",
        "  # Initialize edge matrix with zeros\n",
        "  edge_mat = np.zeros((62, 62), dtype=int)\n",
        "\n",
        "  for edge in adjacency:\n",
        "    a = edge.replace(\"\\n\" , \"\").split(\"\\t\")\n",
        "    edge_mat[int(a[0])][int(a[1])]= 1\n",
        "    edge_mat[int(a[1])][int(a[0])]= 1\n",
        "\n",
        "  for i in range(len(edge_mat)):\n",
        "    edge_mat[i][i] =1\n",
        "\n",
        "  with  open(\"dolphins.clusters\" , \"r\") as f:\n",
        "    label_polblog = f.readlines()\n",
        "  #print(label_polblog)\n",
        "  for label in label_polblog:\n",
        "      a = label.replace(\"\\n\", \"\")\n",
        "      temp =int(a.split(\"\\t\")[1])\n",
        "      if temp == 1:\n",
        "          labels.append(-1)\n",
        "      else:\n",
        "          labels.append(1)\n",
        "\n",
        "  return labels, edge_mat\n"
      ],
      "execution_count": null,
      "outputs": []
    },
    {
      "cell_type": "markdown",
      "metadata": {
        "id": "7l9RubI_lRi6"
      },
      "source": [
        "# polbooks"
      ]
    },
    {
      "cell_type": "code",
      "metadata": {
        "id": "O-Sgwh7AePzi"
      },
      "source": [
        "def polbooks_labels_and_matrix():\n",
        "\n",
        "  with open(\"polbooks.clusters\" , \"r\" ) as f:\n",
        "    polbooks_labels = f.readlines()\n",
        "  delete_label = []\n",
        "  temp={}\n",
        "  for i in polbooks_labels:\n",
        "    a =i.replace(\"\\n\", \"\").split(\"\\t\")\n",
        "    temp[int(a[0])] = int(a[1])\n",
        "  labels_ = [ v for k, v in sorted(temp.items(), key=lambda item: item[0])]\n",
        "\n",
        "  with open(\"polbooks.edges\" , \"r\") as f:\n",
        "    polbooks_mat=f.readlines()\n",
        "\n",
        "  edge_mat = np.zeros((105, 105), dtype=int)\n",
        "  \n",
        "  for i in polbooks_mat:\n",
        "    a = i.replace(\"\\n\" , \"\").split(\"\\t\")\n",
        "    edge_mat[int(a[0])][int(a[1])] = 1\n",
        "    edge_mat[int(a[1])][int(a[0])] = 1\n",
        "  for i in range(len(edge_mat)):\n",
        "    edge_mat[i][i] = 1\n",
        "\n",
        "  #define indexes that must be delete to create new matrix and labels\n",
        "  for k , v in enumerate(labels_):\n",
        "    if v == 0  :\n",
        "      delete_label.append(k)\n",
        "      \n",
        "  #create new mat and labels with 92 nodes  \n",
        "  edge_mat = np.delete(edge_mat ,delete_label , 0 )\n",
        "  edge_mat = np.delete(edge_mat ,delete_label , 1 )\n",
        "  labels= [i for i in labels_ if i!=0]\n",
        "  labels = [-1 if i==2  else 1 for i in labels]\n",
        "\n",
        "  return labels, edge_mat\n"
      ],
      "execution_count": null,
      "outputs": []
    },
    {
      "cell_type": "markdown",
      "metadata": {
        "id": "eAcvDJ87Q-SA"
      },
      "source": [
        "# Part 4.1"
      ]
    },
    {
      "cell_type": "code",
      "metadata": {
        "id": "spF2SadcRDIw"
      },
      "source": [
        "def sample_labels_noise(label_list,percentage  , rate_noise=0 , with_noise=0):\n",
        "    y = np.zeros((len(label_list)), dtype=float)\n",
        "    negative_indices = [i for i, x in enumerate(label_list) if x == -1]\n",
        "    positive_indices = [i for i, x in enumerate(label_list) if x == 1]\n",
        "    n = math.ceil(len(label_list)*(percentage/100))\n",
        "    a = random.sample(negative_indices, 1)\n",
        "    b = random.sample(positive_indices, 1)\n",
        "    y[a] = -1\n",
        "    y[b] = 1\n",
        "    negative_indices.remove(a[0])\n",
        "    positive_indices.remove(b[0])\n",
        "    positive_indices.extend(negative_indices)\n",
        "\n",
        "    if with_noise==0:\n",
        "      if n-2 > 0 :     \n",
        "          indices = random.sample(positive_indices, n-2)\n",
        "          for index in indices :\n",
        "              if label_list[index] == -1:\n",
        "                  y[index] = -1\n",
        "              else:\n",
        "                  y[index] = 1\n",
        "    else:\n",
        "      ns = math.ceil((len(label_list)-(n-2)) * (rate_noise/100))\n",
        "      if n-2 > 0 :     \n",
        "        indices = random.sample(positive_indices, n-2)\n",
        "        for index in indices :\n",
        "            if label_list[index] == -1:\n",
        "                y[index] = -1\n",
        "            else:\n",
        "                y[index] = 1\n",
        "        for i in indices :\n",
        "          positive_indices.remove(i)\n",
        "      if ns > 0 :\n",
        "        indices = random.sample(positive_indices, ns)\n",
        "        for index in indices:\n",
        "          if label_list[index] ==-1:\n",
        "            y[index] = 1\n",
        "          else:\n",
        "            y[index] = -1\n",
        "    return y"
      ],
      "execution_count": null,
      "outputs": []
    },
    {
      "cell_type": "code",
      "metadata": {
        "id": "DX7nDW_ih6Ma"
      },
      "source": [
        "noise_lst = [10,20,30,40]\n",
        "sample_label_lst= [5,10,20,25,30,40,50,60]"
      ],
      "execution_count": null,
      "outputs": []
    },
    {
      "cell_type": "code",
      "metadata": {
        "id": "UGgQdHpAZjoL"
      },
      "source": [
        "def ploting(x ,y , z):\n",
        "  for i  in range(len(y)):\n",
        "    plt.plot(x , y[i] , \"-\" , c=\"r\" )\n",
        "    plt.plot(x , z[i] , \"-\" , c=\"b\")\n",
        "    plt.legend([\"RobustGC\",\"FP_RobustGC\"])\n",
        "    plt.plot(x , y[i] , \"o\" , c=\"g\")\n",
        "    plt.plot(x , z[i] , \"o\" , c=\"r\")\n",
        "    plt.title(str(noise_lst[i]) + \"% noise\" )\n",
        "    plt.xlabel(\"No.labels\")\n",
        "    plt.ylabel(\"acc\")\n",
        "    plt.show()"
      ],
      "execution_count": null,
      "outputs": []
    },
    {
      "cell_type": "code",
      "metadata": {
        "id": "EjOGI8tzZlJf"
      },
      "source": [
        "def test_RobustGC_with_noise(labels , mat):\n",
        "  acc_all_for_RobustGC = []\n",
        "  acc_all_for_FP_RobustGC = []\n",
        "  for noise in noise_lst:\n",
        "    acc_means_algo1 =[]\n",
        "    acc_means_algo2=[]\n",
        "    for s_label in sample_label_lst:\n",
        "      acc_algo1=0\n",
        "      acc_algo2=0\n",
        "      for i in range(50):\n",
        "        y  = sample_labels_noise(labels,s_label , noise , 1)\n",
        "        yhat  , _= RobustGC(mat,y , 0.5)\n",
        "        acc_algo1 += find_accuracy(yhat,labels,y)\n",
        "        #FP_RobustGC\n",
        "        yhat  , _= RobustGC(mat,y , 0.9)\n",
        "        acc_algo2 += find_accuracy(yhat,labels,y)\n",
        "\n",
        "      acc_means_algo1.append(acc_algo1/50)\n",
        "      acc_means_algo2.append(acc_algo2/50)\n",
        "    acc_all_for_RobustGC.append(acc_means_algo1)\n",
        "    acc_all_for_FP_RobustGC.append(acc_means_algo2)\n",
        "  ploting(sample_label_lst,acc_all_for_RobustGC , acc_all_for_FP_RobustGC )"
      ],
      "execution_count": null,
      "outputs": []
    },
    {
      "cell_type": "code",
      "metadata": {
        "colab": {
          "base_uri": "https://localhost:8080/",
          "height": 1000
        },
        "id": "kSbvH1lLfp3x",
        "outputId": "b2b5b596-b3bd-4c84-b164-368f3dd47471"
      },
      "source": [
        "labels , mat = polbooks_labels_and_matrix()\n",
        "test_RobustGC_with_noise(labels , mat)"
      ],
      "execution_count": null,
      "outputs": [
        {
          "output_type": "display_data",
          "data": {
            "image/png": "[encoded data removed]",
            "text/plain": [
              "<Figure size 432x288 with 1 Axes>"
            ]
          },
          "metadata": {
            "tags": [],
            "needs_background": "light"
          }
        },
        {
          "output_type": "display_data",
          "data": {
            "image/png": "[encoded data removed]",
            "text/plain": [
              "<Figure size 432x288 with 1 Axes>"
            ]
          },
          "metadata": {
            "tags": [],
            "needs_background": "light"
          }
        },
        {
          "output_type": "display_data",
          "data": {
            "image/png": "[encoded data removed]",
            "text/plain": [
              "<Figure size 432x288 with 1 Axes>"
            ]
          },
          "metadata": {
            "tags": [],
            "needs_background": "light"
          }
        },
        {
          "output_type": "display_data",
          "data": {
            "image/png": "[encoded data removed]",
            "text/plain": [
              "<Figure size 432x288 with 1 Axes>"
            ]
          },
          "metadata": {
            "tags": [],
            "needs_background": "light"
          }
        }
      ]
    },
    {
      "cell_type": "markdown",
      "metadata": {
        "id": "I31Ud42X46Jx"
      },
      "source": [
        "#Part 4.2"
      ]
    },
    {
      "cell_type": "code",
      "metadata": {
        "colab": {
          "base_uri": "https://localhost:8080/"
        },
        "id": "-bkQCfBD4-u2",
        "outputId": "e4a968fd-6f53-4a8e-d4a4-a6075cb12222"
      },
      "source": [
        "labels , mat = polbooks_labels_and_matrix()\n",
        "show_results(labels , mat , landa=0.5  , name_dataset=\"polbooks\")\n",
        "print(\"*\"*60)\n",
        "show_results(labels , mat , landa=0.9 , name_dataset=\"polbooks\")"
      ],
      "execution_count": null,
      "outputs": [
        {
          "output_type": "stream",
          "text": [
            "average accuracy for polbooks and RobustGC method:\n",
            "\n",
            "percentage: 2 accuracy: 97.7777777777778\n",
            "percentage: 5 accuracy: 97.87356321839083\n",
            "percentage: 10 accuracy: 98.04878048780485\n",
            "percentage: 20 accuracy: 98.15068493150686\n",
            "percentage: 50 accuracy: 98.15217391304348\n",
            "************************************************************\n",
            "average accuracy for polbooks and PF_RobustGC method:\n",
            "\n",
            "percentage: 2 accuracy: 97.83333333333336\n",
            "percentage: 5 accuracy: 97.98850574712647\n",
            "percentage: 10 accuracy: 97.74390243902437\n",
            "percentage: 20 accuracy: 97.94520547945206\n",
            "percentage: 50 accuracy: 97.71739130434783\n"
          ],
          "name": "stdout"
        }
      ]
    },
    {
      "cell_type": "code",
      "metadata": {
        "colab": {
          "base_uri": "https://localhost:8080/"
        },
        "id": "IucMxIpVER2B",
        "outputId": "835c0be5-e045-4a26-feb8-c0311319fd4b"
      },
      "source": [
        "mat = graph_to_edge_matrix(G)\n",
        "labels = [-1, -1, -1, -1, -1, -1, -1, -1, 1, 1, -1, -1, -1, -1, 1, 1, -1, -1, 1, -1, 1, -1, 1, 1, 1, 1, 1, 1, 1, 1, 1, 1, 1, 1]\n",
        "show_results(labels , mat , landa=0.5  , name_dataset=\"karate\")\n",
        "print(\"*\"*60)\n",
        "show_results(labels , mat , landa=0.9 , name_dataset=\"karate\")"
      ],
      "execution_count": null,
      "outputs": [
        {
          "output_type": "stream",
          "text": [
            "average accuracy for karate and RobustGC method:\n",
            "\n",
            "percentage: 5 accuracy: 97.96875\n",
            "percentage: 10 accuracy: 98.50000000000003\n",
            "percentage: 20 accuracy: 99.07407407407408\n",
            "percentage: 50 accuracy: 98.52941176470588\n",
            "************************************************************\n",
            "average accuracy for karate and PF_RobustGC method:\n",
            "\n",
            "percentage: 5 accuracy: 97.65625\n",
            "percentage: 10 accuracy: 97.66666666666669\n",
            "percentage: 20 accuracy: 97.77777777777777\n",
            "percentage: 50 accuracy: 96.76470588235293\n"
          ],
          "name": "stdout"
        }
      ]
    },
    {
      "cell_type": "code",
      "metadata": {
        "colab": {
          "base_uri": "https://localhost:8080/"
        },
        "id": "MTYsrT3hbBOq",
        "outputId": "634bd08f-ffbc-43d6-bf21-0112e6a12210"
      },
      "source": [
        "filePath=\"out.txt\"\n",
        "vectors = read_data(filePath)\n",
        "mat = generate_weight_mat(vectors, sigma=1.25)\n",
        "labels = (generate_labels(filePath))\n",
        "show_results(labels , mat , landa=0.5  , name_dataset=\"digite49-w\")\n",
        "print(\"*\"*60)\n",
        "show_results(labels , mat , landa=0.9 , name_dataset=\"digite49-w\")"
      ],
      "execution_count": null,
      "outputs": [
        {
          "output_type": "stream",
          "text": [
            "average accuracy for digite49-w and RobustGC method:\n",
            "\n",
            "percentage: 1 accuracy: 87.44939271255062\n",
            "percentage: 2 accuracy: 90.6734693877551\n",
            "percentage: 5 accuracy: 93.2067510548523\n",
            "percentage: 10 accuracy: 93.84444444444443\n",
            "percentage: 20 accuracy: 93.8\n",
            "percentage: 50 accuracy: 94.92\n",
            "************************************************************\n",
            "average accuracy for digite49-w and PF_RobustGC method:\n",
            "\n",
            "percentage: 1 accuracy: 89.67611336032388\n",
            "percentage: 2 accuracy: 92.32653061224491\n",
            "percentage: 5 accuracy: 91.9831223628692\n",
            "percentage: 10 accuracy: 93.37777777777778\n",
            "percentage: 20 accuracy: 93.425\n",
            "percentage: 50 accuracy: 94.11999999999999\n"
          ],
          "name": "stdout"
        }
      ]
    },
    {
      "cell_type": "code",
      "metadata": {
        "colab": {
          "base_uri": "https://localhost:8080/"
        },
        "id": "I-eWM_Y3GZnv",
        "outputId": "490bd707-7612-49b5-bc3f-44a22f49075e"
      },
      "source": [
        "labels , mat = dolphins_labels_and_matrix()\n",
        "show_results(labels , mat , landa=0.5  , name_dataset=\"dolphins\")\n",
        "print(\"*\"*60)\n",
        "show_results(labels , mat , landa=0.9 , name_dataset=\"dolphins\")"
      ],
      "execution_count": null,
      "outputs": [
        {
          "output_type": "stream",
          "text": [
            "average accuracy for dolphins and RobustGC method:\n",
            "\n",
            "percentage: 1 accuracy: 96.58333333333334\n",
            "percentage: 2 accuracy: 96.66666666666669\n",
            "percentage: 5 accuracy: 96.98275862068964\n",
            "percentage: 10 accuracy: 96.63636363636361\n",
            "percentage: 20 accuracy: 96.73469387755102\n",
            "percentage: 50 accuracy: 96.4516129032258\n",
            "************************************************************\n",
            "average accuracy for dolphins and PF_RobustGC method:\n",
            "\n",
            "percentage: 1 accuracy: 96.75000000000003\n",
            "percentage: 2 accuracy: 96.6666666666667\n",
            "percentage: 5 accuracy: 96.72413793103445\n",
            "percentage: 10 accuracy: 96.8181818181818\n",
            "percentage: 20 accuracy: 96.93877551020408\n",
            "percentage: 50 accuracy: 96.77419354838709\n"
          ],
          "name": "stdout"
        }
      ]
    }
  ]
}